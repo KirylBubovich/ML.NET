{
 "cells": [
  {
   "cell_type": "code",
   "execution_count": 1,
   "metadata": {},
   "outputs": [
    {
     "data": {
      "text/html": [
       "\r\n",
       "<div>\r\n",
       "    <div id='dotnet-interactive-this-cell-3308.5362be70871e4e94ba4c1b8bec3bff01' style='display: none'>\r\n",
       "        The below script needs to be able to find the current output cell; this is an easy method to get it.\r\n",
       "    </div>\r\n",
       "    <script type='text/javascript'>\r\n",
       "// ensure `require` is available globally\r\n",
       "if (typeof require !== typeof Function || typeof require.config !== typeof Function) {\r\n",
       "    let require_script = document.createElement('script');\r\n",
       "    require_script.setAttribute('src', 'https://cdnjs.cloudflare.com/ajax/libs/require.js/2.3.6/require.min.js');\r\n",
       "    require_script.setAttribute('type', 'text/javascript');\r\n",
       "    require_script.onload = function () {\r\n",
       "        loadDotnetInteractiveApi();\r\n",
       "    };\r\n",
       "\r\n",
       "    document.getElementsByTagName('head')[0].appendChild(require_script);\r\n",
       "}\r\n",
       "else {\r\n",
       "    loadDotnetInteractiveApi();\r\n",
       "}\r\n",
       "\r\n",
       "async function probeAddresses(probingAddresses) {\r\n",
       "    function timeout(ms, promise) {\r\n",
       "        return new Promise(function (resolve, reject) {\r\n",
       "            setTimeout(function () {\r\n",
       "                reject(new Error('timeout'))\r\n",
       "            }, ms)\r\n",
       "            promise.then(resolve, reject)\r\n",
       "        })\r\n",
       "    }\r\n",
       "\r\n",
       "    if (Array.isArray(probingAddresses)) {\r\n",
       "        for (let i = 0; i < probingAddresses.length; i++) {\r\n",
       "\r\n",
       "            let rootUrl = probingAddresses[i];\r\n",
       "\r\n",
       "            if (!rootUrl.endsWith('/')) {\r\n",
       "                rootUrl = `${rootUrl}/`;\r\n",
       "            }\r\n",
       "\r\n",
       "            try {\r\n",
       "                let response = await timeout(1000, fetch(`${rootUrl}discovery`, {\r\n",
       "                    method: 'POST',\r\n",
       "                    cache: 'no-cache',\r\n",
       "                    mode: 'cors',\r\n",
       "                    timeout: 1000,\r\n",
       "                    headers: {\r\n",
       "                        'Content-Type': 'text/plain'\r\n",
       "                    },\r\n",
       "                    body: probingAddresses[i]\r\n",
       "                }));\r\n",
       "\r\n",
       "                if (response.status == 200) {\r\n",
       "                    return rootUrl;\r\n",
       "                }\r\n",
       "            }\r\n",
       "            catch (e) { }\r\n",
       "        }\r\n",
       "    }\r\n",
       "}\r\n",
       "\r\n",
       "function loadDotnetInteractiveApi() {\r\n",
       "    probeAddresses([\"http://192.168.100.10:1000/\", \"http://127.0.0.1:1000/\"])\r\n",
       "        .then((root) => {\r\n",
       "            // use probing to find host url and api resources\r\n",
       "            // load interactive helpers and language services\r\n",
       "            let dotnetInteractiveRequire = require.config({\r\n",
       "                context: '3308.5362be70871e4e94ba4c1b8bec3bff01',\r\n",
       "                paths: {\r\n",
       "                    'dotnet-interactive': `${root}resources`\r\n",
       "                }\r\n",
       "            }) || require;\r\n",
       "\r\n",
       "            let dotnetInteractiveExtensionsRequire = require.config({\r\n",
       "                context: '3308.5362be70871e4e94ba4c1b8bec3bff01',\r\n",
       "                paths: {\r\n",
       "                    'dotnet-interactive-extensions': `${root}extensions`\r\n",
       "                }\r\n",
       "            }) || require;\r\n",
       "\r\n",
       "            if (!window.dotnetInteractiveRequire) {\r\n",
       "                window.dotnetInteractiveRequire = dotnetInteractiveRequire;\r\n",
       "            }\r\n",
       "\r\n",
       "            if (!window.dotnetInteractiveExtensionsRequire) {\r\n",
       "                window.dotnetInteractiveExtensionsRequire = dotnetInteractiveExtensionsRequire;\r\n",
       "            }\r\n",
       "\r\n",
       "            window.getExtensionRequire = function(extensionName, extensionCacheBuster) {\r\n",
       "                let paths = {};\r\n",
       "                paths[extensionName] = `${root}extensions/${extensionName}/resources/`;\r\n",
       "                \r\n",
       "                let internalRequire = require.config({\r\n",
       "                    context: extensionCacheBuster,\r\n",
       "                    paths: paths,\r\n",
       "                    urlArgs: `cacheBuster=${extensionCacheBuster}`\r\n",
       "                    }) || require;\r\n",
       "\r\n",
       "                return internalRequire\r\n",
       "            };\r\n",
       "        \r\n",
       "            dotnetInteractiveRequire([\r\n",
       "                    'dotnet-interactive/dotnet-interactive'\r\n",
       "                ],\r\n",
       "                function (dotnet) {\r\n",
       "                    dotnet.init(window);\r\n",
       "                },\r\n",
       "                function (error) {\r\n",
       "                    console.log(error);\r\n",
       "                }\r\n",
       "            );\r\n",
       "        })\r\n",
       "        .catch(error => {console.log(error);});\r\n",
       "    }\r\n",
       "    </script>\r\n",
       "</div>"
      ]
     },
     "metadata": {},
     "output_type": "display_data"
    },
    {
     "data": {
      "text/plain": [
       "Installed package Microsoft.ML version 1.5.2"
      ]
     },
     "metadata": {},
     "output_type": "display_data"
    },
    {
     "data": {
      "text/plain": [
       "Installed package Microsoft.AspNetCore.Html.Abstractions version 2.2.0"
      ]
     },
     "metadata": {},
     "output_type": "display_data"
    },
    {
     "data": {
      "text/plain": [
       "Installed package Microsoft.ML.LightGbm version 1.5.2"
      ]
     },
     "metadata": {},
     "output_type": "display_data"
    }
   ],
   "source": [
    "#r \"nuget:Microsoft.ML\"\n",
    "#r \"nuget:Microsoft.ML.LightGbm\"\n",
    "#r \"Classes.dll\"\n",
    "#r \"nuget:Microsoft.AspNetCore.Html.Abstractions, 2.2.0\""
   ]
  },
  {
   "cell_type": "code",
   "execution_count": 17,
   "metadata": {},
   "outputs": [],
   "source": [
    "using System;\n",
    "using System.Collections.Generic;\n",
    "using System.IO;\n",
    "using System.Linq;\n",
    "using Microsoft.ML;\n",
    "using Classes;\n",
    "using Microsoft.ML.Trainers.LightGbm;\n",
    "using XPlot.Plotly;\n",
    "using Microsoft.ML.Data;"
   ]
  },
  {
   "cell_type": "code",
   "execution_count": 3,
   "metadata": {},
   "outputs": [],
   "source": [
    "string TRAIN_DATA_FILEPATH = \"train.csv\";\n",
    "string TEST_DATA_FILEPATH = \"test.csv\";"
   ]
  },
  {
   "cell_type": "code",
   "execution_count": 4,
   "metadata": {},
   "outputs": [
    {
     "data": {
      "text/html": [
       "<table><thead><tr><th><i>index</i></th><th>Id</th><th>Elevation</th><th>Aspect</th><th>Slope</th><th>Horizontal_Distance_To_Hydrology</th><th>Vertical_Distance_To_Hydrology</th><th>Horizontal_Distance_To_Roadways</th><th>Hillshade_9am</th><th>Hillshade_Noon</th><th>Hillshade_3pm</th><th>Horizontal_Distance_To_Fire_Points</th><th>Wilderness_Area1</th><th>Wilderness_Area2</th><th>Wilderness_Area3</th><th>Wilderness_Area4</th><th>Soil_Type1</th><th>Soil_Type2</th><th>Soil_Type3</th><th>Soil_Type4</th><th>Soil_Type5</th><th>..</th></tr></thead><tbody><tr><td>0</td><td><div class=\"dni-plaintext\">1</div></td><td><div class=\"dni-plaintext\">2596</div></td><td><div class=\"dni-plaintext\">51</div></td><td><div class=\"dni-plaintext\">3</div></td><td><div class=\"dni-plaintext\">258</div></td><td><div class=\"dni-plaintext\">0</div></td><td><div class=\"dni-plaintext\">510</div></td><td><div class=\"dni-plaintext\">221</div></td><td><div class=\"dni-plaintext\">232</div></td><td><div class=\"dni-plaintext\">148</div></td><td><div class=\"dni-plaintext\">6279</div></td><td><div class=\"dni-plaintext\">1</div></td><td><div class=\"dni-plaintext\">0</div></td><td><div class=\"dni-plaintext\">0</div></td><td><div class=\"dni-plaintext\">0</div></td><td><div class=\"dni-plaintext\">0</div></td><td><div class=\"dni-plaintext\">0</div></td><td><div class=\"dni-plaintext\">0</div></td><td><div class=\"dni-plaintext\">0</div></td><td><div class=\"dni-plaintext\">0</div></td></tr><tr><td>1</td><td><div class=\"dni-plaintext\">2</div></td><td><div class=\"dni-plaintext\">2590</div></td><td><div class=\"dni-plaintext\">56</div></td><td><div class=\"dni-plaintext\">2</div></td><td><div class=\"dni-plaintext\">212</div></td><td><div class=\"dni-plaintext\">-6</div></td><td><div class=\"dni-plaintext\">390</div></td><td><div class=\"dni-plaintext\">220</div></td><td><div class=\"dni-plaintext\">235</div></td><td><div class=\"dni-plaintext\">151</div></td><td><div class=\"dni-plaintext\">6225</div></td><td><div class=\"dni-plaintext\">1</div></td><td><div class=\"dni-plaintext\">0</div></td><td><div class=\"dni-plaintext\">0</div></td><td><div class=\"dni-plaintext\">0</div></td><td><div class=\"dni-plaintext\">0</div></td><td><div class=\"dni-plaintext\">0</div></td><td><div class=\"dni-plaintext\">0</div></td><td><div class=\"dni-plaintext\">0</div></td><td><div class=\"dni-plaintext\">0</div></td></tr><tr><td>2</td><td><div class=\"dni-plaintext\">3</div></td><td><div class=\"dni-plaintext\">2804</div></td><td><div class=\"dni-plaintext\">139</div></td><td><div class=\"dni-plaintext\">9</div></td><td><div class=\"dni-plaintext\">268</div></td><td><div class=\"dni-plaintext\">65</div></td><td><div class=\"dni-plaintext\">3180</div></td><td><div class=\"dni-plaintext\">234</div></td><td><div class=\"dni-plaintext\">238</div></td><td><div class=\"dni-plaintext\">135</div></td><td><div class=\"dni-plaintext\">6121</div></td><td><div class=\"dni-plaintext\">1</div></td><td><div class=\"dni-plaintext\">0</div></td><td><div class=\"dni-plaintext\">0</div></td><td><div class=\"dni-plaintext\">0</div></td><td><div class=\"dni-plaintext\">0</div></td><td><div class=\"dni-plaintext\">0</div></td><td><div class=\"dni-plaintext\">0</div></td><td><div class=\"dni-plaintext\">0</div></td><td><div class=\"dni-plaintext\">0</div></td></tr><tr><td>3</td><td><div class=\"dni-plaintext\">4</div></td><td><div class=\"dni-plaintext\">2785</div></td><td><div class=\"dni-plaintext\">155</div></td><td><div class=\"dni-plaintext\">18</div></td><td><div class=\"dni-plaintext\">242</div></td><td><div class=\"dni-plaintext\">118</div></td><td><div class=\"dni-plaintext\">3090</div></td><td><div class=\"dni-plaintext\">238</div></td><td><div class=\"dni-plaintext\">238</div></td><td><div class=\"dni-plaintext\">122</div></td><td><div class=\"dni-plaintext\">6211</div></td><td><div class=\"dni-plaintext\">1</div></td><td><div class=\"dni-plaintext\">0</div></td><td><div class=\"dni-plaintext\">0</div></td><td><div class=\"dni-plaintext\">0</div></td><td><div class=\"dni-plaintext\">0</div></td><td><div class=\"dni-plaintext\">0</div></td><td><div class=\"dni-plaintext\">0</div></td><td><div class=\"dni-plaintext\">0</div></td><td><div class=\"dni-plaintext\">0</div></td></tr><tr><td>4</td><td><div class=\"dni-plaintext\">5</div></td><td><div class=\"dni-plaintext\">2595</div></td><td><div class=\"dni-plaintext\">45</div></td><td><div class=\"dni-plaintext\">2</div></td><td><div class=\"dni-plaintext\">153</div></td><td><div class=\"dni-plaintext\">-1</div></td><td><div class=\"dni-plaintext\">391</div></td><td><div class=\"dni-plaintext\">220</div></td><td><div class=\"dni-plaintext\">234</div></td><td><div class=\"dni-plaintext\">150</div></td><td><div class=\"dni-plaintext\">6172</div></td><td><div class=\"dni-plaintext\">1</div></td><td><div class=\"dni-plaintext\">0</div></td><td><div class=\"dni-plaintext\">0</div></td><td><div class=\"dni-plaintext\">0</div></td><td><div class=\"dni-plaintext\">0</div></td><td><div class=\"dni-plaintext\">0</div></td><td><div class=\"dni-plaintext\">0</div></td><td><div class=\"dni-plaintext\">0</div></td><td><div class=\"dni-plaintext\">0</div></td></tr></tbody></table>"
      ]
     },
     "metadata": {},
     "output_type": "display_data"
    }
   ],
   "source": [
    "var context = new MLContext(seed: 1);\n",
    "var trainingDataView = context.Data.LoadFromTextFile<ModelInput>(\n",
    "                                            path: TRAIN_DATA_FILEPATH,\n",
    "                                            hasHeader: true,\n",
    "                                            separatorChar: ',',\n",
    "                                            allowQuoting: true,\n",
    "                                            allowSparse: false);\n",
    "var samples = context.Data.CreateEnumerable<ModelInput>(trainingDataView, false).ToArray();\n",
    "display(samples[0..5]);"
   ]
  },
  {
   "cell_type": "code",
   "execution_count": 5,
   "metadata": {},
   "outputs": [
    {
     "data": {
      "text/html": [
       "<div id=\"d6c16de4-7355-43a9-ba5d-e0cd293796aa\" style=\"width: 900px; height: 500px;\"></div>\r\n",
       "<script type=\"text/javascript\">\r\n",
       "\r\n",
       "var renderPlotly = function() {\r\n",
       "    var xplotRequire = require.config({context:'xplot-3.0.1',paths:{plotly:'https://cdn.plot.ly/plotly-1.49.2.min'}}) || require;\r\n",
       "    xplotRequire(['plotly'], function(Plotly) {\r\n",
       "\n",
       "            var data = [{\"type\":\"pie\",\"labels\":[1,2,3,4,5,6,7],\"values\":[2160,2160,2160,2160,2160,2160,2160]}];\n",
       "            var layout = \"\";\n",
       "            Plotly.newPlot('d6c16de4-7355-43a9-ba5d-e0cd293796aa', data, layout);\n",
       "        \r\n",
       "});\r\n",
       "};\r\n",
       "if ((typeof(require) !==  typeof(Function)) || (typeof(require.config) !== typeof(Function))) {\r\n",
       "    var script = document.createElement(\"script\"); \r\n",
       "    script.setAttribute(\"src\", \"https://cdnjs.cloudflare.com/ajax/libs/require.js/2.3.6/require.min.js\");\r\n",
       "    script.onload = function(){\r\n",
       "        renderPlotly();\r\n",
       "    };\r\n",
       "    document.getElementsByTagName(\"head\")[0].appendChild(script); \r\n",
       "}\r\n",
       "else {\r\n",
       "    renderPlotly();\r\n",
       "}\r\n",
       "</script>\r\n"
      ]
     },
     "metadata": {},
     "output_type": "display_data"
    }
   ],
   "source": [
    "var types = samples.Select(item=>item.Cover_Type);\n",
    "var unique = types.Distinct();\n",
    "int[] valuesVal = unique.Select(item=>types.Where(element=>element==item).Count()).ToArray();\n",
    "var graph = new Graph.Pie()\n",
    "{\n",
    "    labels = Enumerable.Range(1, 7),\n",
    "    values = valuesVal\n",
    "};\n",
    "var chart = Chart.Plot(graph);\n",
    "display(chart);"
   ]
  },
  {
   "cell_type": "code",
   "execution_count": 6,
   "metadata": {},
   "outputs": [],
   "source": [
    "var dataProcessPipeline = context.Transforms.Conversion.MapValueToKey(\"Cover_Type\", \"Cover_Type\")\n",
    "    .Append(context.Transforms.Concatenate(\"Features\", new[] { \"Elevation\", \"Aspect\", \"Slope\", \"Horizontal_Distance_To_Hydrology\", \"Vertical_Distance_To_Hydrology\", \"Horizontal_Distance_To_Roadways\", \"Hillshade_9am\", \"Hillshade_Noon\", \"Hillshade_3pm\", \"Horizontal_Distance_To_Fire_Points\", \"Wilderness_Area1\", \"Wilderness_Area2\", \"Wilderness_Area3\", \"Wilderness_Area4\", \"Soil_Type1\", \"Soil_Type2\", \"Soil_Type3\", \"Soil_Type4\", \"Soil_Type5\", \"Soil_Type6\", \"Soil_Type7\", \"Soil_Type8\", \"Soil_Type9\", \"Soil_Type10\", \"Soil_Type11\", \"Soil_Type12\", \"Soil_Type13\", \"Soil_Type14\", \"Soil_Type15\", \"Soil_Type16\", \"Soil_Type17\", \"Soil_Type18\", \"Soil_Type19\", \"Soil_Type20\", \"Soil_Type21\", \"Soil_Type22\", \"Soil_Type23\", \"Soil_Type24\", \"Soil_Type25\", \"Soil_Type26\", \"Soil_Type27\", \"Soil_Type28\", \"Soil_Type29\", \"Soil_Type30\", \"Soil_Type31\", \"Soil_Type32\", \"Soil_Type33\", \"Soil_Type34\", \"Soil_Type35\", \"Soil_Type36\", \"Soil_Type37\", \"Soil_Type38\", \"Soil_Type39\", \"Soil_Type40\" }));\n",
    "\n",
    "var trainer = context.MulticlassClassification.Trainers.LightGbm(new LightGbmMulticlassTrainer.Options() { \n",
    "    NumberOfIterations = 200, \n",
    "    LearningRate = 0.1104043f, \n",
    "    NumberOfLeaves = 94, \n",
    "    MinimumExampleCountPerLeaf = 20, \n",
    "    UseCategoricalSplit = true, \n",
    "    HandleMissingValue = true, \n",
    "    UseZeroAsMissingValue = false, \n",
    "    MinimumExampleCountPerGroup = 10, \n",
    "    MaximumCategoricalSplitPointCount = 16, \n",
    "    CategoricalSmoothing = 20, \n",
    "    L2CategoricalRegularization = 5, \n",
    "    UseSoftmax = false, \n",
    "    Booster = new GradientBooster.Options() { \n",
    "        L2Regularization = 0, \n",
    "        L1Regularization = 0 }, \n",
    "    LabelColumnName = \"Cover_Type\", \n",
    "    FeatureColumnName = \"Features\" })\n",
    "        .Append(context.Transforms.Conversion.MapKeyToValue(\"PredictedLabel\", \"PredictedLabel\"));\n",
    "\n",
    "var pipeline = dataProcessPipeline.Append(trainer);"
   ]
  },
  {
   "cell_type": "code",
   "execution_count": 7,
   "metadata": {},
   "outputs": [],
   "source": [
    "var model = pipeline.Fit(trainingDataView);"
   ]
  },
  {
   "cell_type": "code",
   "execution_count": 8,
   "metadata": {},
   "outputs": [
    {
     "name": "stdout",
     "output_type": "stream",
     "text": [
      "Accuracy:0,875607294618443\r\n"
     ]
    }
   ],
   "source": [
    "var crossValResults = context.MulticlassClassification.CrossValidate(\n",
    "    trainingDataView, \n",
    "    pipeline, \n",
    "    numberOfFolds: 5, \n",
    "    labelColumnName: \"Cover_Type\");\n",
    "var metricsInMultipleFolds = crossValResults.Select(r => r.Metrics);\n",
    "var microAA = metricsInMultipleFolds.Select(m => m.MicroAccuracy).Average();\n",
    "Console.WriteLine($\"Accuracy:{microAA}\");"
   ]
  },
  {
   "cell_type": "code",
   "execution_count": 9,
   "metadata": {},
   "outputs": [
    {
     "data": {
      "text/html": [
       "<table><thead><tr><th><i>index</i></th><th>Id</th><th>Elevation</th><th>Aspect</th><th>Slope</th><th>Horizontal_Distance_To_Hydrology</th><th>Vertical_Distance_To_Hydrology</th><th>Horizontal_Distance_To_Roadways</th><th>Hillshade_9am</th><th>Hillshade_Noon</th><th>Hillshade_3pm</th><th>Horizontal_Distance_To_Fire_Points</th><th>Wilderness_Area1</th><th>Wilderness_Area2</th><th>Wilderness_Area3</th><th>Wilderness_Area4</th><th>Soil_Type1</th><th>Soil_Type2</th><th>Soil_Type3</th><th>Soil_Type4</th><th>Soil_Type5</th><th>..</th></tr></thead><tbody><tr><td>0</td><td><div class=\"dni-plaintext\">15121</div></td><td><div class=\"dni-plaintext\">2680</div></td><td><div class=\"dni-plaintext\">354</div></td><td><div class=\"dni-plaintext\">14</div></td><td><div class=\"dni-plaintext\">0</div></td><td><div class=\"dni-plaintext\">0</div></td><td><div class=\"dni-plaintext\">2684</div></td><td><div class=\"dni-plaintext\">196</div></td><td><div class=\"dni-plaintext\">214</div></td><td><div class=\"dni-plaintext\">156</div></td><td><div class=\"dni-plaintext\">6645</div></td><td><div class=\"dni-plaintext\">1</div></td><td><div class=\"dni-plaintext\">0</div></td><td><div class=\"dni-plaintext\">0</div></td><td><div class=\"dni-plaintext\">0</div></td><td><div class=\"dni-plaintext\">0</div></td><td><div class=\"dni-plaintext\">0</div></td><td><div class=\"dni-plaintext\">0</div></td><td><div class=\"dni-plaintext\">0</div></td><td><div class=\"dni-plaintext\">0</div></td></tr><tr><td>1</td><td><div class=\"dni-plaintext\">15122</div></td><td><div class=\"dni-plaintext\">2683</div></td><td><div class=\"dni-plaintext\">0</div></td><td><div class=\"dni-plaintext\">13</div></td><td><div class=\"dni-plaintext\">0</div></td><td><div class=\"dni-plaintext\">0</div></td><td><div class=\"dni-plaintext\">2654</div></td><td><div class=\"dni-plaintext\">201</div></td><td><div class=\"dni-plaintext\">216</div></td><td><div class=\"dni-plaintext\">152</div></td><td><div class=\"dni-plaintext\">6675</div></td><td><div class=\"dni-plaintext\">1</div></td><td><div class=\"dni-plaintext\">0</div></td><td><div class=\"dni-plaintext\">0</div></td><td><div class=\"dni-plaintext\">0</div></td><td><div class=\"dni-plaintext\">0</div></td><td><div class=\"dni-plaintext\">0</div></td><td><div class=\"dni-plaintext\">0</div></td><td><div class=\"dni-plaintext\">0</div></td><td><div class=\"dni-plaintext\">0</div></td></tr><tr><td>2</td><td><div class=\"dni-plaintext\">15123</div></td><td><div class=\"dni-plaintext\">2713</div></td><td><div class=\"dni-plaintext\">16</div></td><td><div class=\"dni-plaintext\">15</div></td><td><div class=\"dni-plaintext\">0</div></td><td><div class=\"dni-plaintext\">0</div></td><td><div class=\"dni-plaintext\">2980</div></td><td><div class=\"dni-plaintext\">206</div></td><td><div class=\"dni-plaintext\">208</div></td><td><div class=\"dni-plaintext\">137</div></td><td><div class=\"dni-plaintext\">6344</div></td><td><div class=\"dni-plaintext\">1</div></td><td><div class=\"dni-plaintext\">0</div></td><td><div class=\"dni-plaintext\">0</div></td><td><div class=\"dni-plaintext\">0</div></td><td><div class=\"dni-plaintext\">0</div></td><td><div class=\"dni-plaintext\">0</div></td><td><div class=\"dni-plaintext\">0</div></td><td><div class=\"dni-plaintext\">0</div></td><td><div class=\"dni-plaintext\">0</div></td></tr><tr><td>3</td><td><div class=\"dni-plaintext\">15124</div></td><td><div class=\"dni-plaintext\">2709</div></td><td><div class=\"dni-plaintext\">24</div></td><td><div class=\"dni-plaintext\">17</div></td><td><div class=\"dni-plaintext\">0</div></td><td><div class=\"dni-plaintext\">0</div></td><td><div class=\"dni-plaintext\">2950</div></td><td><div class=\"dni-plaintext\">208</div></td><td><div class=\"dni-plaintext\">201</div></td><td><div class=\"dni-plaintext\">125</div></td><td><div class=\"dni-plaintext\">6374</div></td><td><div class=\"dni-plaintext\">1</div></td><td><div class=\"dni-plaintext\">0</div></td><td><div class=\"dni-plaintext\">0</div></td><td><div class=\"dni-plaintext\">0</div></td><td><div class=\"dni-plaintext\">0</div></td><td><div class=\"dni-plaintext\">0</div></td><td><div class=\"dni-plaintext\">0</div></td><td><div class=\"dni-plaintext\">0</div></td><td><div class=\"dni-plaintext\">0</div></td></tr><tr><td>4</td><td><div class=\"dni-plaintext\">15125</div></td><td><div class=\"dni-plaintext\">2706</div></td><td><div class=\"dni-plaintext\">29</div></td><td><div class=\"dni-plaintext\">19</div></td><td><div class=\"dni-plaintext\">0</div></td><td><div class=\"dni-plaintext\">0</div></td><td><div class=\"dni-plaintext\">2920</div></td><td><div class=\"dni-plaintext\">210</div></td><td><div class=\"dni-plaintext\">195</div></td><td><div class=\"dni-plaintext\">115</div></td><td><div class=\"dni-plaintext\">6404</div></td><td><div class=\"dni-plaintext\">1</div></td><td><div class=\"dni-plaintext\">0</div></td><td><div class=\"dni-plaintext\">0</div></td><td><div class=\"dni-plaintext\">0</div></td><td><div class=\"dni-plaintext\">0</div></td><td><div class=\"dni-plaintext\">0</div></td><td><div class=\"dni-plaintext\">0</div></td><td><div class=\"dni-plaintext\">0</div></td><td><div class=\"dni-plaintext\">0</div></td></tr></tbody></table>"
      ]
     },
     "metadata": {},
     "output_type": "display_data"
    }
   ],
   "source": [
    "var engine = context.Model.CreatePredictionEngine<ModelInput, ModelOutput>(model);\n",
    "var testDataView = context.Data.LoadFromTextFile<ModelInputTest>(\n",
    "                                            path: TEST_DATA_FILEPATH,\n",
    "                                            hasHeader: true,\n",
    "                                            separatorChar: ',');\n",
    "var testSamples = context.Data.CreateEnumerable<ModelInputTest>(testDataView, false).ToArray();\n",
    "display(testSamples[0..5]);"
   ]
  },
  {
   "cell_type": "code",
   "execution_count": 10,
   "metadata": {},
   "outputs": [],
   "source": [
    "var predictions = new Dictionary<int, string>();\n",
    "foreach(var item in testSamples)\n",
    "{\n",
    "    var prediction = engine.Predict(new ModelInput(item));\n",
    "    predictions.Add((int)item.Id, prediction.Prediction);\n",
    "}"
   ]
  },
  {
   "cell_type": "code",
   "execution_count": 11,
   "metadata": {},
   "outputs": [
    {
     "data": {
      "text/html": [
       "<table><thead><tr><th><i>index</i></th><th>Key</th><th>Value</th></tr></thead><tbody><tr><td>0</td><td><div class=\"dni-plaintext\">15121</div></td><td><div class=\"dni-plaintext\">5</div></td></tr><tr><td>1</td><td><div class=\"dni-plaintext\">15122</div></td><td><div class=\"dni-plaintext\">1</div></td></tr><tr><td>2</td><td><div class=\"dni-plaintext\">15123</div></td><td><div class=\"dni-plaintext\">1</div></td></tr><tr><td>3</td><td><div class=\"dni-plaintext\">15124</div></td><td><div class=\"dni-plaintext\">1</div></td></tr><tr><td>4</td><td><div class=\"dni-plaintext\">15125</div></td><td><div class=\"dni-plaintext\">1</div></td></tr></tbody></table>"
      ]
     },
     "metadata": {},
     "output_type": "display_data"
    }
   ],
   "source": [
    "display(predictions.TakeWhile((item, i)=>i<5));"
   ]
  },
  {
   "cell_type": "code",
   "execution_count": 12,
   "metadata": {},
   "outputs": [],
   "source": [
    "var path = \"achifal.csv\";\n",
    "File.WriteAllText(path, \"Id,Cover_Type\\n\");\n",
    "File.AppendAllLines(path, predictions.Select(keyval => keyval.Key.ToString() + \",\" + keyval.Value));"
   ]
  },
  {
   "cell_type": "code",
   "execution_count": 29,
   "metadata": {},
   "outputs": [
    {
     "data": {
      "text/html": [
       "<table><thead><tr><th><i>index</i></th><th>value</th></tr></thead><tbody><tr><td>0</td><td><div class=\"dni-plaintext\">5</div></td></tr><tr><td>1</td><td><div class=\"dni-plaintext\">2</div></td></tr><tr><td>2</td><td><div class=\"dni-plaintext\">1</div></td></tr><tr><td>3</td><td><div class=\"dni-plaintext\">7</div></td></tr><tr><td>4</td><td><div class=\"dni-plaintext\">3</div></td></tr><tr><td>5</td><td><div class=\"dni-plaintext\">6</div></td></tr><tr><td>6</td><td><div class=\"dni-plaintext\">4</div></td></tr></tbody></table>"
      ]
     },
     "metadata": {},
     "output_type": "display_data"
    }
   ],
   "source": [
    "public static string[] GetLabels(DataViewSchema schema, string name)\n",
    "{\n",
    "    var column = schema.GetColumnOrNull(name);\n",
    "\n",
    "    var slotNames = new VBuffer<ReadOnlyMemory<char>>();\n",
    "    column.Value.GetSlotNames(ref slotNames);\n",
    "    var names = new string[slotNames.Length];\n",
    "    var num = 0;\n",
    "    foreach (var denseValue in slotNames.DenseValues())\n",
    "    {\n",
    "        names[num++] = denseValue.ToString();\n",
    "    }\n",
    "    return names.ToArray();\n",
    "}\n",
    "var Labels = GetLabels(engine.OutputSchema, \"Score\");\n",
    "display(Labels);"
   ]
  },
  {
   "cell_type": "code",
   "execution_count": 30,
   "metadata": {},
   "outputs": [
    {
     "name": "stdout",
     "output_type": "stream",
     "text": [
      "5\n",
      "0,0067545255 0,008419351 1,3238149E-05 5,7354077E-06 0,98476785 3,625538E-05 3,0507554E-06\n"
     ]
    }
   ],
   "source": [
    "ModelInput sample = new ModelInput()\n",
    "{\n",
    "    Elevation = 2596F,\n",
    "    Aspect = 51F,\n",
    "    Slope = 3F,\n",
    "    Horizontal_Distance_To_Hydrology = 258F,\n",
    "    Vertical_Distance_To_Hydrology = 0F,\n",
    "    Horizontal_Distance_To_Roadways = 510F,\n",
    "    Hillshade_9am = 221F,\n",
    "    Hillshade_Noon = 232F,\n",
    "    Hillshade_3pm = 148F,\n",
    "    Horizontal_Distance_To_Fire_Points = 6279F,\n",
    "    Wilderness_Area1 = 1F,\n",
    "    Wilderness_Area2 = 0F,\n",
    "    Wilderness_Area3 = 0F,\n",
    "    Wilderness_Area4 = 0F,\n",
    "    Soil_Type1 = 0F,\n",
    "    Soil_Type2 = 0F,\n",
    "    Soil_Type3 = 0F,\n",
    "    Soil_Type4 = 0F,\n",
    "    Soil_Type5 = 0F,\n",
    "    Soil_Type6 = 0F,\n",
    "    Soil_Type7 = 0F,\n",
    "    Soil_Type8 = 0F,\n",
    "    Soil_Type9 = 0F,\n",
    "    Soil_Type10 = 0F,\n",
    "    Soil_Type11 = 0F,\n",
    "    Soil_Type12 = 0F,\n",
    "    Soil_Type13 = 0F,\n",
    "    Soil_Type14 = 0F,\n",
    "    Soil_Type15 = 0F,\n",
    "    Soil_Type16 = 0F,\n",
    "    Soil_Type17 = 0F,\n",
    "    Soil_Type18 = 0F,\n",
    "    Soil_Type19 = 0F,\n",
    "    Soil_Type20 = 0F,\n",
    "    Soil_Type21 = 0F,\n",
    "    Soil_Type22 = 0F,\n",
    "    Soil_Type23 = 0F,\n",
    "    Soil_Type24 = 0F,\n",
    "    Soil_Type25 = 0F,\n",
    "    Soil_Type26 = 0F,\n",
    "    Soil_Type27 = 0F,\n",
    "    Soil_Type28 = 0F,\n",
    "    Soil_Type29 = 1F,\n",
    "    Soil_Type30 = 0F,\n",
    "    Soil_Type31 = 0F,\n",
    "    Soil_Type32 = 0F,\n",
    "    Soil_Type33 = 0F,\n",
    "    Soil_Type34 = 0F,\n",
    "    Soil_Type35 = 0F,\n",
    "    Soil_Type36 = 0F,\n",
    "    Soil_Type37 = 0F,\n",
    "    Soil_Type38 = 0F,\n",
    "    Soil_Type39 = 0F,\n",
    "    Soil_Type40 = 0F,\n",
    "};\n",
    "var prediction = engine.Predict(sample);\n",
    "Console.WriteLine(prediction.Prediction);\n",
    "Array.Sort(Labels, prediction.Score);\n",
    "Console.WriteLine(string.Join(' ',prediction.Score));"
   ]
  },
  {
   "cell_type": "code",
   "execution_count": null,
   "metadata": {},
   "outputs": [],
   "source": []
  }
 ],
 "metadata": {
  "kernelspec": {
   "display_name": ".NET (C#)",
   "language": "C#",
   "name": ".net-csharp"
  },
  "language_info": {
   "file_extension": ".cs",
   "mimetype": "text/x-csharp",
   "name": "C#",
   "pygments_lexer": "csharp",
   "version": "8.0"
  }
 },
 "nbformat": 4,
 "nbformat_minor": 4
}
